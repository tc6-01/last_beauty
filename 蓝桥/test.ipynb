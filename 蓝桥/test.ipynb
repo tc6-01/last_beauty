{
 "cells": [
  {
   "cell_type": "code",
   "execution_count": 14,
   "metadata": {},
   "outputs": [
    {
     "ename": "KeyboardInterrupt",
     "evalue": "",
     "output_type": "error",
     "traceback": [
      "\u001b[1;31m---------------------------------------------------------------------------\u001b[0m",
      "\u001b[1;31mKeyboardInterrupt\u001b[0m                         Traceback (most recent call last)",
      "Cell \u001b[1;32mIn [14], line 62\u001b[0m\n\u001b[0;32m     59\u001b[0m             \u001b[39melse\u001b[39;00m:\n\u001b[0;32m     60\u001b[0m                 get_next(start, price\u001b[39m=\u001b[39mstart[\u001b[39m2\u001b[39m])\n\u001b[1;32m---> 62\u001b[0m get_all_path(\u001b[39m'\u001b[39;49m\u001b[39mA\u001b[39;49m\u001b[39m'\u001b[39;49m, \u001b[39m'\u001b[39;49m\u001b[39mE\u001b[39;49m\u001b[39m'\u001b[39;49m)\n\u001b[0;32m     63\u001b[0m \u001b[39mprint\u001b[39m(nums)\n",
      "Cell \u001b[1;32mIn [14], line 60\u001b[0m, in \u001b[0;36mget_all_path\u001b[1;34m(source, dest)\u001b[0m\n\u001b[0;32m     58\u001b[0m     nums\u001b[39m.\u001b[39mappend(start[\u001b[39m2\u001b[39m])\n\u001b[0;32m     59\u001b[0m \u001b[39melse\u001b[39;00m:\n\u001b[1;32m---> 60\u001b[0m     get_next(start, price\u001b[39m=\u001b[39;49mstart[\u001b[39m2\u001b[39;49m])\n",
      "Cell \u001b[1;32mIn [14], line 54\u001b[0m, in \u001b[0;36mget_all_path.<locals>.get_next\u001b[1;34m(start, price)\u001b[0m\n\u001b[0;32m     52\u001b[0m     \u001b[39mreturn\u001b[39;00m\n\u001b[0;32m     53\u001b[0m \u001b[39melse\u001b[39;00m:\n\u001b[1;32m---> 54\u001b[0m     get_next(point, price)\n",
      "Cell \u001b[1;32mIn [14], line 54\u001b[0m, in \u001b[0;36mget_all_path.<locals>.get_next\u001b[1;34m(start, price)\u001b[0m\n\u001b[0;32m     52\u001b[0m     \u001b[39mreturn\u001b[39;00m\n\u001b[0;32m     53\u001b[0m \u001b[39melse\u001b[39;00m:\n\u001b[1;32m---> 54\u001b[0m     get_next(point, price)\n",
      "    \u001b[1;31m[... skipping similar frames: get_all_path.<locals>.get_next at line 54 (7 times)]\u001b[0m\n",
      "Cell \u001b[1;32mIn [14], line 54\u001b[0m, in \u001b[0;36mget_all_path.<locals>.get_next\u001b[1;34m(start, price)\u001b[0m\n\u001b[0;32m     52\u001b[0m     \u001b[39mreturn\u001b[39;00m\n\u001b[0;32m     53\u001b[0m \u001b[39melse\u001b[39;00m:\n\u001b[1;32m---> 54\u001b[0m     get_next(point, price)\n",
      "Cell \u001b[1;32mIn [14], line 49\u001b[0m, in \u001b[0;36mget_all_path.<locals>.get_next\u001b[1;34m(start, price)\u001b[0m\n\u001b[0;32m     47\u001b[0m \u001b[39mfor\u001b[39;00m point \u001b[39min\u001b[39;00m fig:\n\u001b[0;32m     48\u001b[0m     \u001b[39mif\u001b[39;00m start[\u001b[39m1\u001b[39m] \u001b[39min\u001b[39;00m point:\n\u001b[1;32m---> 49\u001b[0m         price \u001b[39m+\u001b[39m\u001b[39m=\u001b[39m point[\u001b[39m2\u001b[39m]\n\u001b[0;32m     50\u001b[0m         \u001b[39mif\u001b[39;00m dest \u001b[39min\u001b[39;00m point:\n\u001b[0;32m     51\u001b[0m             nums\u001b[39m.\u001b[39mappend[price]\n",
      "Cell \u001b[1;32mIn [14], line 49\u001b[0m, in \u001b[0;36mget_all_path.<locals>.get_next\u001b[1;34m(start, price)\u001b[0m\n\u001b[0;32m     47\u001b[0m \u001b[39mfor\u001b[39;00m point \u001b[39min\u001b[39;00m fig:\n\u001b[0;32m     48\u001b[0m     \u001b[39mif\u001b[39;00m start[\u001b[39m1\u001b[39m] \u001b[39min\u001b[39;00m point:\n\u001b[1;32m---> 49\u001b[0m         price \u001b[39m+\u001b[39m\u001b[39m=\u001b[39m point[\u001b[39m2\u001b[39m]\n\u001b[0;32m     50\u001b[0m         \u001b[39mif\u001b[39;00m dest \u001b[39min\u001b[39;00m point:\n\u001b[0;32m     51\u001b[0m             nums\u001b[39m.\u001b[39mappend[price]\n",
      "File \u001b[1;32m_pydevd_bundle/pydevd_cython.pyx:1443\u001b[0m, in \u001b[0;36m_pydevd_bundle.pydevd_cython.SafeCallWrapper.__call__\u001b[1;34m()\u001b[0m\n",
      "File \u001b[1;32m_pydevd_bundle/pydevd_cython.pyx:700\u001b[0m, in \u001b[0;36m_pydevd_bundle.pydevd_cython.PyDBFrame.trace_dispatch\u001b[1;34m()\u001b[0m\n",
      "File \u001b[1;32m_pydevd_bundle/pydevd_cython.pyx:1368\u001b[0m, in \u001b[0;36m_pydevd_bundle.pydevd_cython.PyDBFrame.trace_dispatch\u001b[1;34m()\u001b[0m\n",
      "File \u001b[1;32m_pydevd_bundle/pydevd_cython.pyx:1330\u001b[0m, in \u001b[0;36m_pydevd_bundle.pydevd_cython.PyDBFrame.trace_dispatch\u001b[1;34m()\u001b[0m\n",
      "File \u001b[1;32m_pydevd_bundle/pydevd_cython.pyx:311\u001b[0m, in \u001b[0;36m_pydevd_bundle.pydevd_cython.PyDBFrame.do_wait_suspend\u001b[1;34m()\u001b[0m\n",
      "File \u001b[1;32m~\\AppData\\Roaming\\Python\\Python39\\site-packages\\debugpy\\_vendored\\pydevd\\pydevd.py:2062\u001b[0m, in \u001b[0;36mPyDB.do_wait_suspend\u001b[1;34m(self, thread, frame, event, arg, exception_type)\u001b[0m\n\u001b[0;32m   2059\u001b[0m             from_this_thread\u001b[39m.\u001b[39mappend(frame_custom_thread_id)\n\u001b[0;32m   2061\u001b[0m     \u001b[39mwith\u001b[39;00m \u001b[39mself\u001b[39m\u001b[39m.\u001b[39m_threads_suspended_single_notification\u001b[39m.\u001b[39mnotify_thread_suspended(thread_id, stop_reason):\n\u001b[1;32m-> 2062\u001b[0m         keep_suspended \u001b[39m=\u001b[39m \u001b[39mself\u001b[39;49m\u001b[39m.\u001b[39;49m_do_wait_suspend(thread, frame, event, arg, suspend_type, from_this_thread, frames_tracker)\n\u001b[0;32m   2064\u001b[0m frames_list \u001b[39m=\u001b[39m \u001b[39mNone\u001b[39;00m\n\u001b[0;32m   2066\u001b[0m \u001b[39mif\u001b[39;00m keep_suspended:\n\u001b[0;32m   2067\u001b[0m     \u001b[39m# This means that we should pause again after a set next statement.\u001b[39;00m\n",
      "File \u001b[1;32m~\\AppData\\Roaming\\Python\\Python39\\site-packages\\debugpy\\_vendored\\pydevd\\pydevd.py:2098\u001b[0m, in \u001b[0;36mPyDB._do_wait_suspend\u001b[1;34m(self, thread, frame, event, arg, suspend_type, from_this_thread, frames_tracker)\u001b[0m\n\u001b[0;32m   2095\u001b[0m         \u001b[39mself\u001b[39m\u001b[39m.\u001b[39m_call_input_hook()\n\u001b[0;32m   2097\u001b[0m     \u001b[39mself\u001b[39m\u001b[39m.\u001b[39mprocess_internal_commands()\n\u001b[1;32m-> 2098\u001b[0m     time\u001b[39m.\u001b[39;49msleep(\u001b[39m0.01\u001b[39;49m)\n\u001b[0;32m   2100\u001b[0m \u001b[39mself\u001b[39m\u001b[39m.\u001b[39mcancel_async_evaluation(get_current_thread_id(thread), \u001b[39mstr\u001b[39m(\u001b[39mid\u001b[39m(frame)))\n\u001b[0;32m   2102\u001b[0m \u001b[39m# process any stepping instructions\u001b[39;00m\n",
      "\u001b[1;31mKeyboardInterrupt\u001b[0m: "
     ]
    }
   ],
   "source": [
    "import sys\n",
    "import os\n",
    "\n",
    "fig = [\n",
    "    [\"A\", \"E\", 1],\n",
    "    [\"A\", \"B\", 2],\n",
    "    [\"A\", \"C\", 1],\n",
    "    [\"A\", \"D\", 1],\n",
    "    [\"B\", \"G\", 1],\n",
    "    [\"B\", \"J\", 2],\n",
    "    [\"C\", \"D\", 3],\n",
    "    [\"C\", \"G\", 3],\n",
    "    [\"C\", \"F\", 3],\n",
    "    [\"D\", \"G\", 2],\n",
    "    [\"D\", \"H\", 1],\n",
    "    [\"D\", \"I\", 2],\n",
    "    [\"E\", \"H\", 1],\n",
    "    [\"E\", \"I\", 3],\n",
    "    [\"F\", \"J\", 1],\n",
    "    [\"F\", \"G\", 1],\n",
    "    [\"G\", \"K\", 2],\n",
    "    [\"G\", \"I\", 3],\n",
    "    [\"H\", \"L\", 2],\n",
    "    [\"H\", \"I\", 1],\n",
    "    [\"I\", \"M\", 3],\n",
    "    [\"J\", \"S\", 2],\n",
    "    [\"K\", \"N\", 1],\n",
    "    [\"K\", \"L\", 3],\n",
    "    [\"L\", \"R\", 1],\n",
    "    [\"L\", \"M\", 1],\n",
    "    [\"M\", \"N\", 2],\n",
    "    [\"M\", \"Q\", 1],\n",
    "    [\"M\", \"S\", 1],\n",
    "    [\"N\", \"P\", 1],\n",
    "    [\"Q\", \"O\", 1],\n",
    "    [\"O\", \"R\", 3],\n",
    "    [\"P\", \"O\", 1],\n",
    "    [\"R\", \"S\", 1],\n",
    "]\n",
    "\n",
    "nums = []\n",
    "\n",
    "\n",
    "def get_all_path(source, dest):\n",
    "    def get_next(start, price):\n",
    "        for point in fig:\n",
    "            if start[1] in point and :\n",
    "                price += point[2]\n",
    "                if dest in point:\n",
    "                    nums.append[price]\n",
    "                    return\n",
    "                else:\n",
    "                    get_next(point, price)\n",
    "    for start in fig:\n",
    "        if start[0] == source:\n",
    "            if start[1] == dest:\n",
    "                nums.append(start[2])\n",
    "            else:\n",
    "                get_next(start, price=start[2])\n",
    "\n",
    "get_all_path('A', 'E')\n",
    "print(nums)"
   ]
  }
 ],
 "metadata": {
  "kernelspec": {
   "display_name": "Python 3",
   "language": "python",
   "name": "python3"
  },
  "language_info": {
   "codemirror_mode": {
    "name": "ipython",
    "version": 3
   },
   "file_extension": ".py",
   "mimetype": "text/x-python",
   "name": "python",
   "nbconvert_exporter": "python",
   "pygments_lexer": "ipython3",
   "version": "3.9.12"
  },
  "orig_nbformat": 4,
  "vscode": {
   "interpreter": {
    "hash": "d29e8c05f9523a6655cd14bc4f13898ca43350b162736d4e78ab30dcb6251370"
   }
  }
 },
 "nbformat": 4,
 "nbformat_minor": 2
}
